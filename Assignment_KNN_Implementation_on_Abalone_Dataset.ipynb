{
  "nbformat": 4,
  "nbformat_minor": 0,
  "metadata": {
    "colab": {
      "provenance": [],
      "authorship_tag": "ABX9TyOxP5a7lfe5vUYu5Iam6ewL",
      "include_colab_link": true
    },
    "kernelspec": {
      "name": "python3",
      "display_name": "Python 3"
    },
    "language_info": {
      "name": "python"
    },
    "gpuClass": "standard",
    "accelerator": "GPU"
  },
  "cells": [
    {
      "cell_type": "markdown",
      "metadata": {
        "id": "view-in-github",
        "colab_type": "text"
      },
      "source": [
        "<a href=\"https://colab.research.google.com/github/Muhammad-Gunzalas/Machine-Learning-with-K-Nearest-Neighbor/blob/main/Assignment_KNN_Implementation_on_Abalone_Dataset.ipynb\" target=\"_parent\"><img src=\"https://colab.research.google.com/assets/colab-badge.svg\" alt=\"Open In Colab\"/></a>"
      ]
    },
    {
      "cell_type": "markdown",
      "source": [
        "**Import Libraries**"
      ],
      "metadata": {
        "id": "9tepVMdfcaSm"
      }
    },
    {
      "cell_type": "code",
      "source": [
        "import pandas as pd\n",
        "import scipy.stats\n",
        "import numpy as np\n",
        "import sklearn.metrics as sk\n",
        "from matplotlib import pyplot as plot"
      ],
      "metadata": {
        "id": "cbbkXRad0aFA"
      },
      "execution_count": 102,
      "outputs": []
    },
    {
      "cell_type": "markdown",
      "source": [
        "**Read Dataset**"
      ],
      "metadata": {
        "id": "Eebvuc6cclwk"
      }
    },
    {
      "cell_type": "code",
      "source": [
        "url = \"https://archive.ics.uci.edu/ml/machine-learning-databases/abalone/abalone.data\"\n",
        "abalone = pd.read_csv(url, header=None)\n",
        "abalone.head()"
      ],
      "metadata": {
        "colab": {
          "base_uri": "https://localhost:8080/",
          "height": 206
        },
        "id": "E1JJoQao0Z9M",
        "outputId": "65ad2d5b-bf78-4d3f-b072-ac8ea885548a"
      },
      "execution_count": 103,
      "outputs": [
        {
          "output_type": "execute_result",
          "data": {
            "text/plain": [
              "   0      1      2      3       4       5       6      7   8\n",
              "0  M  0.455  0.365  0.095  0.5140  0.2245  0.1010  0.150  15\n",
              "1  M  0.350  0.265  0.090  0.2255  0.0995  0.0485  0.070   7\n",
              "2  F  0.530  0.420  0.135  0.6770  0.2565  0.1415  0.210   9\n",
              "3  M  0.440  0.365  0.125  0.5160  0.2155  0.1140  0.155  10\n",
              "4  I  0.330  0.255  0.080  0.2050  0.0895  0.0395  0.055   7"
            ],
            "text/html": [
              "\n",
              "  <div id=\"df-1d44200e-5e44-492b-932a-e01c65f8d8ba\">\n",
              "    <div class=\"colab-df-container\">\n",
              "      <div>\n",
              "<style scoped>\n",
              "    .dataframe tbody tr th:only-of-type {\n",
              "        vertical-align: middle;\n",
              "    }\n",
              "\n",
              "    .dataframe tbody tr th {\n",
              "        vertical-align: top;\n",
              "    }\n",
              "\n",
              "    .dataframe thead th {\n",
              "        text-align: right;\n",
              "    }\n",
              "</style>\n",
              "<table border=\"1\" class=\"dataframe\">\n",
              "  <thead>\n",
              "    <tr style=\"text-align: right;\">\n",
              "      <th></th>\n",
              "      <th>0</th>\n",
              "      <th>1</th>\n",
              "      <th>2</th>\n",
              "      <th>3</th>\n",
              "      <th>4</th>\n",
              "      <th>5</th>\n",
              "      <th>6</th>\n",
              "      <th>7</th>\n",
              "      <th>8</th>\n",
              "    </tr>\n",
              "  </thead>\n",
              "  <tbody>\n",
              "    <tr>\n",
              "      <th>0</th>\n",
              "      <td>M</td>\n",
              "      <td>0.455</td>\n",
              "      <td>0.365</td>\n",
              "      <td>0.095</td>\n",
              "      <td>0.5140</td>\n",
              "      <td>0.2245</td>\n",
              "      <td>0.1010</td>\n",
              "      <td>0.150</td>\n",
              "      <td>15</td>\n",
              "    </tr>\n",
              "    <tr>\n",
              "      <th>1</th>\n",
              "      <td>M</td>\n",
              "      <td>0.350</td>\n",
              "      <td>0.265</td>\n",
              "      <td>0.090</td>\n",
              "      <td>0.2255</td>\n",
              "      <td>0.0995</td>\n",
              "      <td>0.0485</td>\n",
              "      <td>0.070</td>\n",
              "      <td>7</td>\n",
              "    </tr>\n",
              "    <tr>\n",
              "      <th>2</th>\n",
              "      <td>F</td>\n",
              "      <td>0.530</td>\n",
              "      <td>0.420</td>\n",
              "      <td>0.135</td>\n",
              "      <td>0.6770</td>\n",
              "      <td>0.2565</td>\n",
              "      <td>0.1415</td>\n",
              "      <td>0.210</td>\n",
              "      <td>9</td>\n",
              "    </tr>\n",
              "    <tr>\n",
              "      <th>3</th>\n",
              "      <td>M</td>\n",
              "      <td>0.440</td>\n",
              "      <td>0.365</td>\n",
              "      <td>0.125</td>\n",
              "      <td>0.5160</td>\n",
              "      <td>0.2155</td>\n",
              "      <td>0.1140</td>\n",
              "      <td>0.155</td>\n",
              "      <td>10</td>\n",
              "    </tr>\n",
              "    <tr>\n",
              "      <th>4</th>\n",
              "      <td>I</td>\n",
              "      <td>0.330</td>\n",
              "      <td>0.255</td>\n",
              "      <td>0.080</td>\n",
              "      <td>0.2050</td>\n",
              "      <td>0.0895</td>\n",
              "      <td>0.0395</td>\n",
              "      <td>0.055</td>\n",
              "      <td>7</td>\n",
              "    </tr>\n",
              "  </tbody>\n",
              "</table>\n",
              "</div>\n",
              "      <button class=\"colab-df-convert\" onclick=\"convertToInteractive('df-1d44200e-5e44-492b-932a-e01c65f8d8ba')\"\n",
              "              title=\"Convert this dataframe to an interactive table.\"\n",
              "              style=\"display:none;\">\n",
              "        \n",
              "  <svg xmlns=\"http://www.w3.org/2000/svg\" height=\"24px\"viewBox=\"0 0 24 24\"\n",
              "       width=\"24px\">\n",
              "    <path d=\"M0 0h24v24H0V0z\" fill=\"none\"/>\n",
              "    <path d=\"M18.56 5.44l.94 2.06.94-2.06 2.06-.94-2.06-.94-.94-2.06-.94 2.06-2.06.94zm-11 1L8.5 8.5l.94-2.06 2.06-.94-2.06-.94L8.5 2.5l-.94 2.06-2.06.94zm10 10l.94 2.06.94-2.06 2.06-.94-2.06-.94-.94-2.06-.94 2.06-2.06.94z\"/><path d=\"M17.41 7.96l-1.37-1.37c-.4-.4-.92-.59-1.43-.59-.52 0-1.04.2-1.43.59L10.3 9.45l-7.72 7.72c-.78.78-.78 2.05 0 2.83L4 21.41c.39.39.9.59 1.41.59.51 0 1.02-.2 1.41-.59l7.78-7.78 2.81-2.81c.8-.78.8-2.07 0-2.86zM5.41 20L4 18.59l7.72-7.72 1.47 1.35L5.41 20z\"/>\n",
              "  </svg>\n",
              "      </button>\n",
              "      \n",
              "  <style>\n",
              "    .colab-df-container {\n",
              "      display:flex;\n",
              "      flex-wrap:wrap;\n",
              "      gap: 12px;\n",
              "    }\n",
              "\n",
              "    .colab-df-convert {\n",
              "      background-color: #E8F0FE;\n",
              "      border: none;\n",
              "      border-radius: 50%;\n",
              "      cursor: pointer;\n",
              "      display: none;\n",
              "      fill: #1967D2;\n",
              "      height: 32px;\n",
              "      padding: 0 0 0 0;\n",
              "      width: 32px;\n",
              "    }\n",
              "\n",
              "    .colab-df-convert:hover {\n",
              "      background-color: #E2EBFA;\n",
              "      box-shadow: 0px 1px 2px rgba(60, 64, 67, 0.3), 0px 1px 3px 1px rgba(60, 64, 67, 0.15);\n",
              "      fill: #174EA6;\n",
              "    }\n",
              "\n",
              "    [theme=dark] .colab-df-convert {\n",
              "      background-color: #3B4455;\n",
              "      fill: #D2E3FC;\n",
              "    }\n",
              "\n",
              "    [theme=dark] .colab-df-convert:hover {\n",
              "      background-color: #434B5C;\n",
              "      box-shadow: 0px 1px 3px 1px rgba(0, 0, 0, 0.15);\n",
              "      filter: drop-shadow(0px 1px 2px rgba(0, 0, 0, 0.3));\n",
              "      fill: #FFFFFF;\n",
              "    }\n",
              "  </style>\n",
              "\n",
              "      <script>\n",
              "        const buttonEl =\n",
              "          document.querySelector('#df-1d44200e-5e44-492b-932a-e01c65f8d8ba button.colab-df-convert');\n",
              "        buttonEl.style.display =\n",
              "          google.colab.kernel.accessAllowed ? 'block' : 'none';\n",
              "\n",
              "        async function convertToInteractive(key) {\n",
              "          const element = document.querySelector('#df-1d44200e-5e44-492b-932a-e01c65f8d8ba');\n",
              "          const dataTable =\n",
              "            await google.colab.kernel.invokeFunction('convertToInteractive',\n",
              "                                                     [key], {});\n",
              "          if (!dataTable) return;\n",
              "\n",
              "          const docLinkHtml = 'Like what you see? Visit the ' +\n",
              "            '<a target=\"_blank\" href=https://colab.research.google.com/notebooks/data_table.ipynb>data table notebook</a>'\n",
              "            + ' to learn more about interactive tables.';\n",
              "          element.innerHTML = '';\n",
              "          dataTable['output_type'] = 'display_data';\n",
              "          await google.colab.output.renderOutput(dataTable, element);\n",
              "          const docLink = document.createElement('div');\n",
              "          docLink.innerHTML = docLinkHtml;\n",
              "          element.appendChild(docLink);\n",
              "        }\n",
              "      </script>\n",
              "    </div>\n",
              "  </div>\n",
              "  "
            ]
          },
          "metadata": {},
          "execution_count": 103
        }
      ]
    },
    {
      "cell_type": "markdown",
      "source": [
        "**Assigning columns names**"
      ],
      "metadata": {
        "id": "_yY24KQ4cr5X"
      }
    },
    {
      "cell_type": "code",
      "source": [
        "# Assigning names to columns\n",
        "abalone.columns = [\"Sex\", \"Length\", \"Diameter\", \"Height\", \"Whole weight\", \"Shucked weight\",\"Viscera weight\", \"Shell weight\", \"Rings\"]\n",
        "abalone.head()"
      ],
      "metadata": {
        "colab": {
          "base_uri": "https://localhost:8080/",
          "height": 206
        },
        "id": "vqMXWbzd0Z5y",
        "outputId": "33bf6561-1594-456e-af2a-599230a55e08"
      },
      "execution_count": 104,
      "outputs": [
        {
          "output_type": "execute_result",
          "data": {
            "text/plain": [
              "  Sex  Length  Diameter  Height  Whole weight  Shucked weight  Viscera weight  \\\n",
              "0   M   0.455     0.365   0.095        0.5140          0.2245          0.1010   \n",
              "1   M   0.350     0.265   0.090        0.2255          0.0995          0.0485   \n",
              "2   F   0.530     0.420   0.135        0.6770          0.2565          0.1415   \n",
              "3   M   0.440     0.365   0.125        0.5160          0.2155          0.1140   \n",
              "4   I   0.330     0.255   0.080        0.2050          0.0895          0.0395   \n",
              "\n",
              "   Shell weight  Rings  \n",
              "0         0.150     15  \n",
              "1         0.070      7  \n",
              "2         0.210      9  \n",
              "3         0.155     10  \n",
              "4         0.055      7  "
            ],
            "text/html": [
              "\n",
              "  <div id=\"df-32773bc5-4276-49d3-8f6f-1b40f9d65d67\">\n",
              "    <div class=\"colab-df-container\">\n",
              "      <div>\n",
              "<style scoped>\n",
              "    .dataframe tbody tr th:only-of-type {\n",
              "        vertical-align: middle;\n",
              "    }\n",
              "\n",
              "    .dataframe tbody tr th {\n",
              "        vertical-align: top;\n",
              "    }\n",
              "\n",
              "    .dataframe thead th {\n",
              "        text-align: right;\n",
              "    }\n",
              "</style>\n",
              "<table border=\"1\" class=\"dataframe\">\n",
              "  <thead>\n",
              "    <tr style=\"text-align: right;\">\n",
              "      <th></th>\n",
              "      <th>Sex</th>\n",
              "      <th>Length</th>\n",
              "      <th>Diameter</th>\n",
              "      <th>Height</th>\n",
              "      <th>Whole weight</th>\n",
              "      <th>Shucked weight</th>\n",
              "      <th>Viscera weight</th>\n",
              "      <th>Shell weight</th>\n",
              "      <th>Rings</th>\n",
              "    </tr>\n",
              "  </thead>\n",
              "  <tbody>\n",
              "    <tr>\n",
              "      <th>0</th>\n",
              "      <td>M</td>\n",
              "      <td>0.455</td>\n",
              "      <td>0.365</td>\n",
              "      <td>0.095</td>\n",
              "      <td>0.5140</td>\n",
              "      <td>0.2245</td>\n",
              "      <td>0.1010</td>\n",
              "      <td>0.150</td>\n",
              "      <td>15</td>\n",
              "    </tr>\n",
              "    <tr>\n",
              "      <th>1</th>\n",
              "      <td>M</td>\n",
              "      <td>0.350</td>\n",
              "      <td>0.265</td>\n",
              "      <td>0.090</td>\n",
              "      <td>0.2255</td>\n",
              "      <td>0.0995</td>\n",
              "      <td>0.0485</td>\n",
              "      <td>0.070</td>\n",
              "      <td>7</td>\n",
              "    </tr>\n",
              "    <tr>\n",
              "      <th>2</th>\n",
              "      <td>F</td>\n",
              "      <td>0.530</td>\n",
              "      <td>0.420</td>\n",
              "      <td>0.135</td>\n",
              "      <td>0.6770</td>\n",
              "      <td>0.2565</td>\n",
              "      <td>0.1415</td>\n",
              "      <td>0.210</td>\n",
              "      <td>9</td>\n",
              "    </tr>\n",
              "    <tr>\n",
              "      <th>3</th>\n",
              "      <td>M</td>\n",
              "      <td>0.440</td>\n",
              "      <td>0.365</td>\n",
              "      <td>0.125</td>\n",
              "      <td>0.5160</td>\n",
              "      <td>0.2155</td>\n",
              "      <td>0.1140</td>\n",
              "      <td>0.155</td>\n",
              "      <td>10</td>\n",
              "    </tr>\n",
              "    <tr>\n",
              "      <th>4</th>\n",
              "      <td>I</td>\n",
              "      <td>0.330</td>\n",
              "      <td>0.255</td>\n",
              "      <td>0.080</td>\n",
              "      <td>0.2050</td>\n",
              "      <td>0.0895</td>\n",
              "      <td>0.0395</td>\n",
              "      <td>0.055</td>\n",
              "      <td>7</td>\n",
              "    </tr>\n",
              "  </tbody>\n",
              "</table>\n",
              "</div>\n",
              "      <button class=\"colab-df-convert\" onclick=\"convertToInteractive('df-32773bc5-4276-49d3-8f6f-1b40f9d65d67')\"\n",
              "              title=\"Convert this dataframe to an interactive table.\"\n",
              "              style=\"display:none;\">\n",
              "        \n",
              "  <svg xmlns=\"http://www.w3.org/2000/svg\" height=\"24px\"viewBox=\"0 0 24 24\"\n",
              "       width=\"24px\">\n",
              "    <path d=\"M0 0h24v24H0V0z\" fill=\"none\"/>\n",
              "    <path d=\"M18.56 5.44l.94 2.06.94-2.06 2.06-.94-2.06-.94-.94-2.06-.94 2.06-2.06.94zm-11 1L8.5 8.5l.94-2.06 2.06-.94-2.06-.94L8.5 2.5l-.94 2.06-2.06.94zm10 10l.94 2.06.94-2.06 2.06-.94-2.06-.94-.94-2.06-.94 2.06-2.06.94z\"/><path d=\"M17.41 7.96l-1.37-1.37c-.4-.4-.92-.59-1.43-.59-.52 0-1.04.2-1.43.59L10.3 9.45l-7.72 7.72c-.78.78-.78 2.05 0 2.83L4 21.41c.39.39.9.59 1.41.59.51 0 1.02-.2 1.41-.59l7.78-7.78 2.81-2.81c.8-.78.8-2.07 0-2.86zM5.41 20L4 18.59l7.72-7.72 1.47 1.35L5.41 20z\"/>\n",
              "  </svg>\n",
              "      </button>\n",
              "      \n",
              "  <style>\n",
              "    .colab-df-container {\n",
              "      display:flex;\n",
              "      flex-wrap:wrap;\n",
              "      gap: 12px;\n",
              "    }\n",
              "\n",
              "    .colab-df-convert {\n",
              "      background-color: #E8F0FE;\n",
              "      border: none;\n",
              "      border-radius: 50%;\n",
              "      cursor: pointer;\n",
              "      display: none;\n",
              "      fill: #1967D2;\n",
              "      height: 32px;\n",
              "      padding: 0 0 0 0;\n",
              "      width: 32px;\n",
              "    }\n",
              "\n",
              "    .colab-df-convert:hover {\n",
              "      background-color: #E2EBFA;\n",
              "      box-shadow: 0px 1px 2px rgba(60, 64, 67, 0.3), 0px 1px 3px 1px rgba(60, 64, 67, 0.15);\n",
              "      fill: #174EA6;\n",
              "    }\n",
              "\n",
              "    [theme=dark] .colab-df-convert {\n",
              "      background-color: #3B4455;\n",
              "      fill: #D2E3FC;\n",
              "    }\n",
              "\n",
              "    [theme=dark] .colab-df-convert:hover {\n",
              "      background-color: #434B5C;\n",
              "      box-shadow: 0px 1px 3px 1px rgba(0, 0, 0, 0.15);\n",
              "      filter: drop-shadow(0px 1px 2px rgba(0, 0, 0, 0.3));\n",
              "      fill: #FFFFFF;\n",
              "    }\n",
              "  </style>\n",
              "\n",
              "      <script>\n",
              "        const buttonEl =\n",
              "          document.querySelector('#df-32773bc5-4276-49d3-8f6f-1b40f9d65d67 button.colab-df-convert');\n",
              "        buttonEl.style.display =\n",
              "          google.colab.kernel.accessAllowed ? 'block' : 'none';\n",
              "\n",
              "        async function convertToInteractive(key) {\n",
              "          const element = document.querySelector('#df-32773bc5-4276-49d3-8f6f-1b40f9d65d67');\n",
              "          const dataTable =\n",
              "            await google.colab.kernel.invokeFunction('convertToInteractive',\n",
              "                                                     [key], {});\n",
              "          if (!dataTable) return;\n",
              "\n",
              "          const docLinkHtml = 'Like what you see? Visit the ' +\n",
              "            '<a target=\"_blank\" href=https://colab.research.google.com/notebooks/data_table.ipynb>data table notebook</a>'\n",
              "            + ' to learn more about interactive tables.';\n",
              "          element.innerHTML = '';\n",
              "          dataTable['output_type'] = 'display_data';\n",
              "          await google.colab.output.renderOutput(dataTable, element);\n",
              "          const docLink = document.createElement('div');\n",
              "          docLink.innerHTML = docLinkHtml;\n",
              "          element.appendChild(docLink);\n",
              "        }\n",
              "      </script>\n",
              "    </div>\n",
              "  </div>\n",
              "  "
            ]
          },
          "metadata": {},
          "execution_count": 104
        }
      ]
    },
    {
      "cell_type": "markdown",
      "source": [
        "**Dropping the Sex Column**"
      ],
      "metadata": {
        "id": "SuJ0u0uJc8nA"
      }
    },
    {
      "cell_type": "code",
      "source": [
        "# Dropping sex column as it is non-numeric and irrelevant\n",
        "abalone = abalone.drop('Sex', axis=1)\n",
        "abalone.shape"
      ],
      "metadata": {
        "colab": {
          "base_uri": "https://localhost:8080/"
        },
        "id": "Q7aWJCRR0Z2e",
        "outputId": "58d2b67c-04a5-4bb3-a325-d0111e096168"
      },
      "execution_count": 105,
      "outputs": [
        {
          "output_type": "execute_result",
          "data": {
            "text/plain": [
              "(4177, 8)"
            ]
          },
          "metadata": {},
          "execution_count": 105
        }
      ]
    },
    {
      "cell_type": "markdown",
      "source": [
        "**Data Splitting With Numpy**"
      ],
      "metadata": {
        "id": "80JOelN4dEE6"
      }
    },
    {
      "cell_type": "code",
      "source": [
        "# Splitting with numpy \n",
        "# For shuffling the dataset\n",
        "# abalone = abalone.sample(frac=1)\n",
        "\n",
        "# For splitting data into 3 sets training, validation, and testing\n",
        "validation_data, testing_data, training_data = np.split(abalone, [int(.2 * len(abalone)), int(.5 * len(abalone))])\n",
        "#training_data, validation_data, testing_data = np.split(abalone, [int(.5 * len(abalone)), int(.7 * len(abalone))])\n",
        "\n",
        "# Extract all features except \"Rings\" or Output column into one array and\n",
        "# Rings column in another array for all data sets\n",
        "actual_training_data = training_data.drop('Rings', axis=1).values\n",
        "training_data_rings = training_data[\"Rings\"].values\n",
        "\n",
        "actual_validation_data = validation_data.drop('Rings', axis=1).values\n",
        "validation_data_rings = validation_data[\"Rings\"].values\n",
        "\n",
        "\n",
        "actual_testing_data = testing_data.drop('Rings', axis=1).values\n",
        "testing_data_rings = testing_data[\"Rings\"].values\n",
        "\n",
        "actual_training_data.shape , training_data_rings.shape , actual_validation_data.shape , validation_data_rings.shape , actual_testing_data.shape , testing_data_rings.shape"
      ],
      "metadata": {
        "colab": {
          "base_uri": "https://localhost:8080/"
        },
        "id": "Vjh87VJR0ZzU",
        "outputId": "c091d1c1-20a3-4ceb-9d63-caa1126188fa"
      },
      "execution_count": 106,
      "outputs": [
        {
          "output_type": "execute_result",
          "data": {
            "text/plain": [
              "((2089, 7), (2089,), (835, 7), (835,), (1253, 7), (1253,))"
            ]
          },
          "metadata": {},
          "execution_count": 106
        }
      ]
    },
    {
      "cell_type": "markdown",
      "source": [
        "**Data Splitting With Sklearn Library** if you already run Upper cell don't Run this otherwise values updated"
      ],
      "metadata": {
        "id": "S1wd9DYcdN8r"
      }
    },
    {
      "cell_type": "code",
      "source": [
        "# Split with sklearn library , this cell on option don't run if you run upper cell otherwise your values are update\n",
        "X = abalone.drop(\"Rings\", axis=1)\n",
        "X = X.values\n",
        "y = abalone[\"Rings\"]\n",
        "y = y.values\n",
        "\n",
        "from sklearn.model_selection import train_test_split \n",
        "# Set aside 70% of train and 30%test data for evaluation\n",
        "X_train,  y_train = train_test_split(X,test_size=0.3, shuffle = True )\n",
        "x_test,  y_test = train_test_split(y,test_size=0.3, shuffle = True )\n",
        "\n",
        "\n",
        "# Use the same funcion above for the validation set\n",
        "X_train, X_val = train_test_split(X_train, test_size=0.3, random_state= 8) \n",
        "x_test, y_val= train_test_split(x_test, test_size=0.3, random_state= 8)#\n",
        "\n",
        "#X_train.shape ,x_test.shape ,X_val.shape ,y_val.shape ,y_train.shape ,y_test.shape\n",
        "\n",
        "actual_training_data=X_train\n",
        "training_data_rings=x_test\n",
        "actual_validation_data=X_val\n",
        "validation_data_rings=y_val\n",
        "actual_testing_data=y_train\n",
        "testing_data_rings=y_test\n",
        "\n",
        "print('X_train shape: ',X_train.shape)\n",
        "print('X_test shape: ',x_test.shape)\n",
        "print('y_train shape: ',y_train.shape)\n",
        "print('y_test shape: ',y_test.shape)\n",
        "print('X_val shape: ',X_val.shape)\n",
        "print('y val shape: ',y_val.shape)"
      ],
      "metadata": {
        "colab": {
          "base_uri": "https://localhost:8080/"
        },
        "id": "cYIwZhfz8cZY",
        "outputId": "f50dec94-4438-40b6-c86a-bb58ffdd11a4"
      },
      "execution_count": 114,
      "outputs": [
        {
          "output_type": "stream",
          "name": "stdout",
          "text": [
            "X_train shape:  (2046, 7)\n",
            "X_test shape:  (2046,)\n",
            "y_train shape:  (1254, 7)\n",
            "y_test shape:  (1254,)\n",
            "X_val shape:  (877, 7)\n",
            "y val shape:  (877,)\n"
          ]
        }
      ]
    },
    {
      "cell_type": "markdown",
      "source": [
        "**KNN Code**"
      ],
      "metadata": {
        "id": "D_m-NUa5eQVR"
      }
    },
    {
      "cell_type": "code",
      "source": [
        "# this generic method will calculate the distance of one sample with actual data (training data) &\n",
        "# get the K nearest distances and then predict the output class (Rings) and then store the predicted value into array.\n",
        "# Parameters:-\n",
        "# sample: one row from the data set\n",
        "# actual_data: complete dataset from which we want to calculate the distance of our sample\n",
        "# data_rings: actual output class of dataset(Rings in our case) from which we want to get classes of neighbors\n",
        "# pred_ring: the array that will contain the predicted value of each sample\n",
        "# k: the value of k; how much neighbors we want\n",
        "def calculate_dis_pred(sample, actual_data, data_rings, pred_ring, k):\n",
        "    distances = (np.linalg.norm(actual_data - sample, axis=1))\n",
        "    nearest_neighbor_ids = distances.argsort()[:k]\n",
        "    nearest_neighbor_rings = data_rings[nearest_neighbor_ids]\n",
        "    # print(scipy.stats.mode(nearest_neighbor_rings))\n",
        "    prediction = scipy.stats.mode(nearest_neighbor_rings)[0][0]\n",
        "\n",
        "    pred_ring.append(prediction)\n",
        "\n"
      ],
      "metadata": {
        "id": "hOmEUWZb0Zph"
      },
      "execution_count": 107,
      "outputs": []
    },
    {
      "cell_type": "markdown",
      "source": [
        "**Calculations**"
      ],
      "metadata": {
        "id": "p8B8g2z6eYCM"
      }
    },
    {
      "cell_type": "code",
      "source": [
        "\n",
        "# This generic method will calculate the Accuracy, Precision, Recall, and F1 Score of specific k value.\n",
        "# Parameters:-\n",
        "# k: no. of neighbors\n",
        "# data_set: dataset from which we want to make calculations\n",
        "# data_set_rings: actual output class of that given data_set\n",
        "# _type: to specify the type of data_set\n",
        "def get_calculation(k, data_set, data_set_rings, _type):\n",
        "    data_pred = []\n",
        "    for sample in data_set:\n",
        "        calculate_dis_pred(sample, data_set, data_set_rings, data_pred, k)\n",
        "\n",
        "    accuracy = sk.accuracy_score(data_set_rings, data_pred)\n",
        "    recall = sk.recall_score(data_set_rings, data_pred, average='weighted')\n",
        "    precision = sk.precision_score(data_set_rings, data_pred, average='weighted')\n",
        "    f1 = sk.f1_score(data_set_rings, data_pred, average='weighted')\n",
        "\n",
        "    print_result(_type,accuracy,precision,recall,f1)\n",
        "\n",
        "\n",
        "    \n",
        "\n"
      ],
      "metadata": {
        "id": "HBnybgNU2g-x"
      },
      "execution_count": 108,
      "outputs": []
    },
    {
      "cell_type": "markdown",
      "source": [
        "**Calculations Print**"
      ],
      "metadata": {
        "id": "bFReyvCZedsF"
      }
    },
    {
      "cell_type": "code",
      "source": [
        "def print_result(_type,accuracy,precision,recall,f1):\n",
        "    print('-----------Calculation On K = ',k,'------------')\n",
        "    print('On ',_type,' Data:')\n",
        "    print('Accuracy on K = ',k,' is ',accuracy)\n",
        "    print('Precision on K =',k,' is ',precision)\n",
        "    print('Recall on K = ',k,' is ',recall)\n",
        "    print('F1 Score on K = ',k,' is ',f1)"
      ],
      "metadata": {
        "id": "d9g24NtvaN2r"
      },
      "execution_count": 109,
      "outputs": []
    },
    {
      "cell_type": "markdown",
      "source": [
        "**Create Dictionary for Storing Results**"
      ],
      "metadata": {
        "id": "pFa_4l51dtdR"
      }
    },
    {
      "cell_type": "code",
      "source": [
        "# initializing empty dictionary for storing each data set accuracies\n",
        "k_training_accuracy_dict = {}\n",
        "k_validation_accuracy_dict = {}\n",
        "k_testing_accuracy_dict = {}"
      ],
      "metadata": {
        "id": "cU_FWZqQ0Zvk"
      },
      "execution_count": 110,
      "outputs": []
    },
    {
      "cell_type": "markdown",
      "source": [
        "**Plotting Data**"
      ],
      "metadata": {
        "id": "kptsWCH2ejpN"
      }
    },
    {
      "cell_type": "code",
      "source": [
        "\n",
        "\n",
        "def plot_accuracy_graph():\n",
        "    plot.title('Training Accuracy vs Testing Accuracy')\n",
        "    plot.xlabel('n_neighbor')\n",
        "    plot.ylabel('Accuracy')\n",
        "\n",
        "    # As we have accuracy on y-axis, so it takes values from the dictionary\n",
        "    # As we have k (n_neighbors) on x-axis, so it takes keys from dictionary because keys are the value of k\n",
        "    # Called a built-in method that take x and y axis\n",
        "    # first argument is x-axis (k-values) and second is y-axis (accuracies)\n",
        "    # this is for training dataset\n",
        "    plot.plot(list(k_training_accuracy_dict.keys()), list(k_training_accuracy_dict.values()),label='Training Accuracy')\n",
        "\n",
        "    # this is for validation dataset\n",
        "    #plot.plot(list(k_validation_accuracy_dict.keys()),  list(k_validation_accuracy_dict.values()),label='Validation Accuracy')\n",
        "\n",
        "    # this is for testing dataset\n",
        "    plot.plot(list(k_testing_accuracy_dict.keys()), list(k_testing_accuracy_dict.values()),label='Testing Accuracy')\n",
        "    plot.legend(loc='best')\n",
        "    plot.show()\n",
        "\n"
      ],
      "metadata": {
        "id": "mwdrlbSNnBYr"
      },
      "execution_count": 111,
      "outputs": []
    },
    {
      "cell_type": "markdown",
      "source": [
        "**Part 1**"
      ],
      "metadata": {
        "id": "RqmBFg4dd8aN"
      }
    },
    {
      "cell_type": "code",
      "source": [
        "#  ********** Part - 1 **************\n",
        "# Loop to find the tuned value of k, in this loop, for each value of k, it will find the predicted value of each\n",
        "# sample of each dataset and after that find the accuracy of predicted classes with actual classes and store it\n",
        "# in the dictionary with the key k\n",
        "for k in range(1, 100, 2):\n",
        "    pred_training_rings = []\n",
        "    pred_validation_rings = []\n",
        "    pred_testing_rings = []\n",
        "    for training_sample in actual_training_data:\n",
        "        calculate_dis_pred(training_sample, actual_training_data, training_data_rings, pred_training_rings, k)\n",
        "    k_training_accuracy_dict[k] = sk.accuracy_score(training_data_rings, pred_training_rings)\n",
        "\n",
        "    for v_sample in actual_validation_data:\n",
        "        calculate_dis_pred(v_sample, actual_training_data, training_data_rings, pred_validation_rings, k)\n",
        "    k_validation_accuracy_dict[k] = sk.accuracy_score(validation_data_rings, pred_validation_rings)\n",
        "\n",
        "    for test_sample in actual_testing_data:\n",
        "        calculate_dis_pred(test_sample, actual_training_data, training_data_rings, pred_testing_rings, k)\n",
        "    k_testing_accuracy_dict[k] = sk.accuracy_score(testing_data_rings, pred_testing_rings)\n",
        "\n",
        "\n"
      ],
      "metadata": {
        "id": "3F_Hetk82ekg"
      },
      "execution_count": 112,
      "outputs": []
    },
    {
      "cell_type": "markdown",
      "source": [
        "**Part - 2 and Part - 3 Part -4**"
      ],
      "metadata": {
        "id": "GfhsByD1eDSP"
      }
    },
    {
      "cell_type": "code",
      "source": [
        "#  ********** Part - 2 and Part - 3 **************\n",
        "# As we got best result at k = 18.2642 and that is even number so we take 17 and 19\n",
        "# odd number to check the calculations\n",
        "k = 17\n",
        "get_calculation(k, actual_training_data, training_data_rings, 'training')\n",
        "get_calculation(k, actual_testing_data, testing_data_rings, 'testing')\n",
        "\n",
        "k = 19\n",
        "get_calculation(k, actual_training_data, training_data_rings, 'training')\n",
        "get_calculation(k, actual_testing_data, testing_data_rings, 'testing')\n",
        "\n",
        "#********** Part - 4 **************\n",
        "plot_accuracy_graph()"
      ],
      "metadata": {
        "colab": {
          "base_uri": "https://localhost:8080/",
          "height": 872
        },
        "id": "mXswXGuscBQg",
        "outputId": "5604402b-9092-484f-c31f-dc2d091c2eac"
      },
      "execution_count": 113,
      "outputs": [
        {
          "output_type": "stream",
          "name": "stderr",
          "text": [
            "/usr/local/lib/python3.8/dist-packages/sklearn/metrics/_classification.py:1318: UndefinedMetricWarning: Precision is ill-defined and being set to 0.0 in labels with no predicted samples. Use `zero_division` parameter to control this behavior.\n",
            "  _warn_prf(average, modifier, msg_start, len(result))\n"
          ]
        },
        {
          "output_type": "stream",
          "name": "stdout",
          "text": [
            "-----------Calculation On K =  17 ------------\n",
            "On  training  Data:\n",
            "Accuracy on K =  17  is  0.3432264241263763\n",
            "Precision on K = 17  is  0.32539592847018284\n",
            "Recall on K =  17  is  0.3432264241263763\n",
            "F1 Score on K =  17  is  0.31992408054984817\n"
          ]
        },
        {
          "output_type": "stream",
          "name": "stderr",
          "text": [
            "/usr/local/lib/python3.8/dist-packages/sklearn/metrics/_classification.py:1318: UndefinedMetricWarning: Precision is ill-defined and being set to 0.0 in labels with no predicted samples. Use `zero_division` parameter to control this behavior.\n",
            "  _warn_prf(average, modifier, msg_start, len(result))\n"
          ]
        },
        {
          "output_type": "stream",
          "name": "stdout",
          "text": [
            "-----------Calculation On K =  17 ------------\n",
            "On  testing  Data:\n",
            "Accuracy on K =  17  is  0.41500399042298486\n",
            "Precision on K = 17  is  0.40356480488009894\n",
            "Recall on K =  17  is  0.41500399042298486\n",
            "F1 Score on K =  17  is  0.4000314235501056\n"
          ]
        },
        {
          "output_type": "stream",
          "name": "stderr",
          "text": [
            "/usr/local/lib/python3.8/dist-packages/sklearn/metrics/_classification.py:1318: UndefinedMetricWarning: Precision is ill-defined and being set to 0.0 in labels with no predicted samples. Use `zero_division` parameter to control this behavior.\n",
            "  _warn_prf(average, modifier, msg_start, len(result))\n"
          ]
        },
        {
          "output_type": "stream",
          "name": "stdout",
          "text": [
            "-----------Calculation On K =  19 ------------\n",
            "On  training  Data:\n",
            "Accuracy on K =  19  is  0.34035423647678315\n",
            "Precision on K = 19  is  0.32562726119838653\n",
            "Recall on K =  19  is  0.34035423647678315\n",
            "F1 Score on K =  19  is  0.3158947743612655\n"
          ]
        },
        {
          "output_type": "stream",
          "name": "stderr",
          "text": [
            "/usr/local/lib/python3.8/dist-packages/sklearn/metrics/_classification.py:1318: UndefinedMetricWarning: Precision is ill-defined and being set to 0.0 in labels with no predicted samples. Use `zero_division` parameter to control this behavior.\n",
            "  _warn_prf(average, modifier, msg_start, len(result))\n"
          ]
        },
        {
          "output_type": "stream",
          "name": "stdout",
          "text": [
            "-----------Calculation On K =  19 ------------\n",
            "On  testing  Data:\n",
            "Accuracy on K =  19  is  0.4221867517956903\n",
            "Precision on K = 19  is  0.40549471901192524\n",
            "Recall on K =  19  is  0.4221867517956903\n",
            "F1 Score on K =  19  is  0.4033846796042184\n"
          ]
        },
        {
          "output_type": "display_data",
          "data": {
            "text/plain": [
              "<Figure size 432x288 with 1 Axes>"
            ],
            "image/png": "[encoded data removed]"
          },
          "metadata": {
            "needs_background": "light"
          }
        }
      ]
    }
  ]
}